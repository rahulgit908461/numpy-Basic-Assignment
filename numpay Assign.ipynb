{
 "cells": [
  {
   "cell_type": "code",
   "execution_count": 1,
   "id": "c4958fe7-1abf-4552-9a3b-dc3b62e704ca",
   "metadata": {},
   "outputs": [],
   "source": [
    "import numpy as np"
   ]
  },
  {
   "cell_type": "code",
   "execution_count": null,
   "id": "b89579e7-65c9-493b-9cdc-525200b575a5",
   "metadata": {},
   "outputs": [],
   "source": [
    "#Q1.& Q2 is there any diff in data type of variable list and arrya list ? if there is then \n",
    "#write a code to print"
   ]
  },
  {
   "cell_type": "code",
   "execution_count": 20,
   "id": "dea11900-dffa-445e-88a3-b3e7cff7889a",
   "metadata": {},
   "outputs": [],
   "source": [
    "l=[1,2,3,4,5]"
   ]
  },
  {
   "cell_type": "code",
   "execution_count": 21,
   "id": "1ecf74cf-0dd7-4693-be30-28c05862f74c",
   "metadata": {},
   "outputs": [
    {
     "data": {
      "text/plain": [
       "[1, 2, 3, 4, 5]"
      ]
     },
     "execution_count": 21,
     "metadata": {},
     "output_type": "execute_result"
    }
   ],
   "source": [
    "list(l)"
   ]
  },
  {
   "cell_type": "code",
   "execution_count": null,
   "id": "21640316-b3e9-4727-8655-fead71f30a9b",
   "metadata": {},
   "outputs": [],
   "source": [
    "type(list(l))"
   ]
  },
  {
   "cell_type": "code",
   "execution_count": 22,
   "id": "15cfe3a7-364a-4d6b-a495-febd6df0d747",
   "metadata": {},
   "outputs": [],
   "source": [
    "array_list=np.array(l)"
   ]
  },
  {
   "cell_type": "code",
   "execution_count": 23,
   "id": "45e028cc-0e22-408a-807e-c20abbeb831d",
   "metadata": {},
   "outputs": [
    {
     "data": {
      "text/plain": [
       "array([1, 2, 3, 4, 5])"
      ]
     },
     "execution_count": 23,
     "metadata": {},
     "output_type": "execute_result"
    }
   ],
   "source": [
    "array_list"
   ]
  },
  {
   "cell_type": "code",
   "execution_count": 24,
   "id": "85b8fb9d-7239-40a8-bc88-bca3a36ec2c7",
   "metadata": {},
   "outputs": [
    {
     "data": {
      "text/plain": [
       "numpy.ndarray"
      ]
     },
     "execution_count": 24,
     "metadata": {},
     "output_type": "execute_result"
    }
   ],
   "source": [
    "type(array_list)"
   ]
  },
  {
   "cell_type": "code",
   "execution_count": 8,
   "id": "db2ecbcc-4fc0-48cf-b716-f4732c8ef655",
   "metadata": {},
   "outputs": [],
   "source": [
    "#Q3. Consider the follwing changes in variable , array_list"
   ]
  },
  {
   "cell_type": "code",
   "execution_count": 30,
   "id": "15335286-daac-4bd1-a17b-079f0b44a590",
   "metadata": {},
   "outputs": [
    {
     "ename": "TypeError",
     "evalue": "Cannot interpret '2' as a data type",
     "output_type": "error",
     "traceback": [
      "\u001b[0;31m---------------------------------------------------------------------------\u001b[0m",
      "\u001b[0;31mTypeError\u001b[0m                                 Traceback (most recent call last)",
      "Cell \u001b[0;32mIn[30], line 1\u001b[0m\n\u001b[0;32m----> 1\u001b[0m array_list\u001b[38;5;241m=\u001b[39m\u001b[43mnp\u001b[49m\u001b[38;5;241;43m.\u001b[39;49m\u001b[43marray\u001b[49m\u001b[43m(\u001b[49m\u001b[43m[\u001b[49m\u001b[38;5;241;43m1\u001b[39;49m\u001b[43m,\u001b[49m\u001b[38;5;241;43m2\u001b[39;49m\u001b[43m,\u001b[49m\u001b[38;5;241;43m3\u001b[39;49m\u001b[43m,\u001b[49m\u001b[38;5;241;43m4\u001b[39;49m\u001b[43m,\u001b[49m\u001b[38;5;241;43m5\u001b[39;49m\u001b[43m]\u001b[49m\u001b[43m \u001b[49m\u001b[43m,\u001b[49m\u001b[38;5;241;43m2\u001b[39;49m\u001b[43m)\u001b[49m\n",
      "\u001b[0;31mTypeError\u001b[0m: Cannot interpret '2' as a data type"
     ]
    }
   ],
   "source": [
    "array_list=np.array([1,2,3,4,5] ,2)"
   ]
  },
  {
   "cell_type": "code",
   "execution_count": 31,
   "id": "62c8021f-a79d-40f5-b501-3ec953aac996",
   "metadata": {},
   "outputs": [],
   "source": [
    "#Q4. heregiven "
   ]
  },
  {
   "cell_type": "code",
   "execution_count": 32,
   "id": "1c499539-9b90-474d-8b7d-d3d4e6458fcb",
   "metadata": {},
   "outputs": [],
   "source": [
    "num_array=np.array([[1,2,3] ,[4,5,6]])"
   ]
  },
  {
   "cell_type": "code",
   "execution_count": 33,
   "id": "6024f61d-8411-41b5-a4e7-3bda939c47b3",
   "metadata": {},
   "outputs": [
    {
     "data": {
      "text/plain": [
       "array([[1, 2, 3],\n",
       "       [4, 5, 6]])"
      ]
     },
     "execution_count": 33,
     "metadata": {},
     "output_type": "execute_result"
    }
   ],
   "source": [
    "num_array"
   ]
  },
  {
   "cell_type": "code",
   "execution_count": 34,
   "id": "68c43fb2-8e89-4f94-992d-db19c5a3a14c",
   "metadata": {},
   "outputs": [],
   "source": [
    "# find shape and size "
   ]
  },
  {
   "cell_type": "code",
   "execution_count": 35,
   "id": "b021250c-efc5-41af-ba31-0ce4aa23f3e2",
   "metadata": {},
   "outputs": [
    {
     "data": {
      "text/plain": [
       "(2, 3)"
      ]
     },
     "execution_count": 35,
     "metadata": {},
     "output_type": "execute_result"
    }
   ],
   "source": [
    "np.shape(num_array)"
   ]
  },
  {
   "cell_type": "code",
   "execution_count": 36,
   "id": "9e1974e4-17e0-45de-bf35-26a94f67043a",
   "metadata": {},
   "outputs": [
    {
     "data": {
      "text/plain": [
       "6"
      ]
     },
     "execution_count": 36,
     "metadata": {},
     "output_type": "execute_result"
    }
   ],
   "source": [
    "np.size(num_array)"
   ]
  },
  {
   "cell_type": "code",
   "execution_count": 37,
   "id": "c4832e1c-fe28-48d0-a5e0-c354b3cb4a10",
   "metadata": {},
   "outputs": [],
   "source": [
    "#Q5.- code to creat nupy array of 3*3 matrix containing zeros only, using nupay arrays creatio  fun"
   ]
  },
  {
   "cell_type": "code",
   "execution_count": 39,
   "id": "4d98ce0c-f93f-4a2a-9792-9bb2a6de16d4",
   "metadata": {},
   "outputs": [
    {
     "data": {
      "text/plain": [
       "array([[0., 0., 0.],\n",
       "       [0., 0., 0.],\n",
       "       [0., 0., 0.]])"
      ]
     },
     "execution_count": 39,
     "metadata": {},
     "output_type": "execute_result"
    }
   ],
   "source": [
    "np.zeros([3,3])"
   ]
  },
  {
   "cell_type": "code",
   "execution_count": 40,
   "id": "350ce3c8-9a92-4e0c-973e-9af0b9fd7ef8",
   "metadata": {},
   "outputs": [],
   "source": [
    "#Q6-create an identity matrix of shape(5,5) using np fun"
   ]
  },
  {
   "cell_type": "code",
   "execution_count": 48,
   "id": "7836b50d-61e6-40ca-b709-11137f96aed4",
   "metadata": {},
   "outputs": [
    {
     "data": {
      "text/plain": [
       "array([[1., 0., 0., 0., 0.],\n",
       "       [0., 1., 0., 0., 0.],\n",
       "       [0., 0., 1., 0., 0.],\n",
       "       [0., 0., 0., 1., 0.],\n",
       "       [0., 0., 0., 0., 1.]])"
      ]
     },
     "execution_count": 48,
     "metadata": {},
     "output_type": "execute_result"
    }
   ],
   "source": [
    "np.identity(5)"
   ]
  },
  {
   "cell_type": "code",
   "execution_count": null,
   "id": "ba2f374f-bfb4-4857-9680-09f3514f527d",
   "metadata": {},
   "outputs": [],
   "source": []
  }
 ],
 "metadata": {
  "kernelspec": {
   "display_name": "Python 3 (ipykernel)",
   "language": "python",
   "name": "python3"
  },
  "language_info": {
   "codemirror_mode": {
    "name": "ipython",
    "version": 3
   },
   "file_extension": ".py",
   "mimetype": "text/x-python",
   "name": "python",
   "nbconvert_exporter": "python",
   "pygments_lexer": "ipython3",
   "version": "3.10.8"
  }
 },
 "nbformat": 4,
 "nbformat_minor": 5
}
